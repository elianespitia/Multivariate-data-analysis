{
 "cells": [
  {
   "cell_type": "markdown",
   "id": "1aa0cfdc",
   "metadata": {},
   "source": [
    "# Análisis Multivariado de datos 1"
   ]
  },
  {
   "cell_type": "markdown",
   "id": "d20351e5",
   "metadata": {},
   "source": [
    "En este cuaderno se presenta la implementación de algunas funciones, para calcular algunas de las estadísticas descriptivas básicas para datos muntivariados.\n",
    "\n",
    "### *Nota: El código está escrito en R*\n"
   ]
  },
  {
   "cell_type": "markdown",
   "id": "6b94bb7e",
   "metadata": {},
   "source": [
    "1) Matriz de dimensión $n\\times p$ donde cada componente es igual a $1$."
   ]
  },
  {
   "cell_type": "code",
   "execution_count": 1,
   "id": "17a4d3a8",
   "metadata": {},
   "outputs": [
    {
     "name": "stdout",
     "output_type": "stream",
     "text": [
      "     [,1] [,2]\n",
      "[1,]    1    1\n",
      "[2,]    1    1\n",
      "[3,]    1    1\n"
     ]
    }
   ],
   "source": [
    "ones <- function(n,p){\n",
    "  return(matrix(rep(1,n*p), nrow=n, ncol=p))\n",
    "}\n",
    "\n",
    "#Ejemplo\n",
    "print(ones(3,2))"
   ]
  },
  {
   "cell_type": "markdown",
   "id": "be85d906",
   "metadata": {},
   "source": [
    "2. Matriz de $n\\times p$ donde cada componente es igual a $0$."
   ]
  },
  {
   "cell_type": "code",
   "execution_count": 2,
   "id": "259d3013",
   "metadata": {},
   "outputs": [
    {
     "name": "stdout",
     "output_type": "stream",
     "text": [
      "     [,1] [,2]\n",
      "[1,]    0    0\n",
      "[2,]    0    0\n",
      "[3,]    0    0\n"
     ]
    }
   ],
   "source": [
    "zeros <- function(n,p){\n",
    "    return( ones(n,p)*0 )\n",
    "}\n",
    "\n",
    "#Ejemplo \n",
    "print(zeros(3,2))"
   ]
  },
  {
   "cell_type": "markdown",
   "id": "644c2950",
   "metadata": {},
   "source": [
    "3. Matriz identidad de tamaño $n \\times n$. "
   ]
  },
  {
   "cell_type": "code",
   "execution_count": 3,
   "id": "85ea6c09",
   "metadata": {},
   "outputs": [
    {
     "name": "stdout",
     "output_type": "stream",
     "text": [
      "     [,1] [,2] [,3]\n",
      "[1,]    1    0    0\n",
      "[2,]    0    1    0\n",
      "[3,]    0    0    1\n"
     ]
    }
   ],
   "source": [
    "I <- function(n){\n",
    "  A <- zeros(n,n)\n",
    "  diag(A) <- ones(n,1)\n",
    "  return(A)\n",
    "}\n",
    "\n",
    "#Ejemplo\n",
    "print(I(3))"
   ]
  },
  {
   "cell_type": "markdown",
   "id": "3f1cab55",
   "metadata": {},
   "source": [
    "De ahora en adelante, tendremos como input a una matrix $X$, cuya entrada $x_{i,j}$ corresponderá a la medición de la variable $j$ sobre el individuo $i$."
   ]
  },
  {
   "cell_type": "markdown",
   "id": "1f9dcad1",
   "metadata": {},
   "source": [
    "4. Vector de medias."
   ]
  },
  {
   "cell_type": "code",
   "execution_count": 4,
   "id": "e63b6278",
   "metadata": {},
   "outputs": [
    {
     "name": "stdout",
     "output_type": "stream",
     "text": [
      "       [,1]\n",
      "speed 15.40\n",
      "dist  42.98\n"
     ]
    }
   ],
   "source": [
    "mean_vec <- function(X){\n",
    "    return(t(t(colMeans(X))))\n",
    "}\n",
    "\n",
    "#Ejemplo\n",
    "print(mean_vec(cars))"
   ]
  },
  {
   "cell_type": "markdown",
   "id": "54113ae5",
   "metadata": {},
   "source": [
    "5. Matriz de covarianzas muestrales, $S$. (Dividido entre (n-1))"
   ]
  },
  {
   "cell_type": "code",
   "execution_count": 5,
   "id": "817d1d19",
   "metadata": {},
   "outputs": [
    {
     "name": "stdout",
     "output_type": "stream",
     "text": [
      "          speed     dist\n",
      "speed  27.95918 109.9469\n",
      "dist  109.94694 664.0608\n"
     ]
    }
   ],
   "source": [
    "#Ejemplo \n",
    "print(var(cars))"
   ]
  },
  {
   "cell_type": "markdown",
   "id": "18f2f3dc",
   "metadata": {},
   "source": [
    "6. Matriz de correlaciones muestrales ( $R = D^{-\\frac{1}{2}} S D^{-\\frac{1}{2}}$), con $D$ la matriz diagonal con los inversos de las desviaciones estándar sobre la diagonal)"
   ]
  },
  {
   "cell_type": "code",
   "execution_count": 6,
   "id": "f44cfa05",
   "metadata": {},
   "outputs": [
    {
     "name": "stdout",
     "output_type": "stream",
     "text": [
      "          speed      dist\n",
      "speed 1.0000000 0.8068949\n",
      "dist  0.8068949 1.0000000\n"
     ]
    }
   ],
   "source": [
    "#Ejemplo \n",
    "print(cor(cars))"
   ]
  },
  {
   "cell_type": "markdown",
   "id": "35ab20fe",
   "metadata": {},
   "source": [
    "7. Varianza total ($tr(S)$)"
   ]
  },
  {
   "cell_type": "code",
   "execution_count": 7,
   "id": "04951597",
   "metadata": {},
   "outputs": [
    {
     "data": {
      "text/html": [
       "692.02"
      ],
      "text/latex": [
       "692.02"
      ],
      "text/markdown": [
       "692.02"
      ],
      "text/plain": [
       "[1] 692.02"
      ]
     },
     "metadata": {},
     "output_type": "display_data"
    }
   ],
   "source": [
    "var_tot <- function(X){\n",
    "    return( sum(diag(var(X))) )\n",
    "}\n",
    "\n",
    "#Ejemplo\n",
    "var_tot(cars)"
   ]
  },
  {
   "cell_type": "code",
   "execution_count": 8,
   "id": "129171da",
   "metadata": {
    "scrolled": true
   },
   "outputs": [
    {
     "data": {
      "text/html": [
       "6478.2689879217"
      ],
      "text/latex": [
       "6478.2689879217"
      ],
      "text/markdown": [
       "6478.2689879217"
      ],
      "text/plain": [
       "[1] 6478.269"
      ]
     },
     "metadata": {},
     "output_type": "display_data"
    }
   ],
   "source": [
    "var_gen <- function(X){\n",
    "    return( det(var(X)) )\n",
    "}\n",
    "\n",
    "#Ejemplo\n",
    "var_gen(cars)"
   ]
  }
 ],
 "metadata": {
  "kernelspec": {
   "display_name": "R",
   "language": "R",
   "name": "ir"
  },
  "language_info": {
   "codemirror_mode": "r",
   "file_extension": ".r",
   "mimetype": "text/x-r-source",
   "name": "R",
   "pygments_lexer": "r",
   "version": "3.6.1"
  }
 },
 "nbformat": 4,
 "nbformat_minor": 5
}
